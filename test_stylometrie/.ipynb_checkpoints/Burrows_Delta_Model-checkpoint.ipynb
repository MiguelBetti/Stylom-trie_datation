{
 "cells": [
  {
   "cell_type": "markdown",
   "metadata": {},
   "source": [
    "\n",
    "# Stylométrie et datation (UniGE, 26.04.2024)\n",
    "\n",
    "Modèle basé sur: \n",
    "\n",
    "Fast Stylometry model for Burrows' Delta\n",
    "By [Thomas Wood](https://freelancedatascientist.net), [Fast Data Science](https://fastdatascience.com)\n",
    "\n",
    "Burrows' Delta est un algorithme pour comparer la similitude entre plusieurs textes, connu aussi comme [forensic stylometry](https://fastdatascience.com/how-you-can-identify-the-author-of-a-document/).\n",
    "\n",
    "* [Une explication du Burrows' Delta et comment ça marche](https://programminghistorian.org/en/lessons/introduction-to-stylometry-with-python#third-stylometric-test-john-burrows-delta-method-advanced)\n",
    "\n",
    "Demonstration du Burrows' Delta avec un petit corpus de contes et nouvelles écrits par des auteur.trice.s argentin.e.s du XXe siècle:\n",
    "\n",
    "Horacio Quiroga (1878-1937)\n",
    "\n",
    "Jorge Luis Borges (1899-1986)\n",
    "\n",
    "Silvina Ocampo (1903-1993)\n",
    "\n",
    "Adolfo Bioy Casares (1914-1999)\n",
    "\n",
    "Julio Cortázar (1914-1984)\n",
    "\n",
    "\n",
    "\n",
    "Nous allons tester le Burrows' Delta sur deux textes: \"El Aleph\", publié par Jorge Luis Borges (marqué avec un x), et \"Las doce figuras del mundo\", écrit en collaboration par ce même auteur et Adolfo Bioy Casares, mais publié sur le pseudonyme de H. Bustos Domecq.\n",
    "\n",
    "\n",
    "\n",
    "## I. Installation de la librairie Fast Stylometry et des packages"
   ]
  },
  {
   "cell_type": "code",
   "execution_count": 1,
   "metadata": {
    "scrolled": true
   },
   "outputs": [
    {
     "name": "stdout",
     "output_type": "stream",
     "text": [
      "Requirement already satisfied: faststylometry in /opt/anaconda3/lib/python3.8/site-packages (1.0.4)\n",
      "Requirement already satisfied: scikit-learn<=1.3.0,>=1.2.0 in /opt/anaconda3/lib/python3.8/site-packages (from faststylometry) (1.3.0)\n",
      "Requirement already satisfied: numpy<=1.24.3,>=1.18 in /opt/anaconda3/lib/python3.8/site-packages (from faststylometry) (1.22.0)\n",
      "Requirement already satisfied: pandas<=2.1.0,>=1.5.3 in /opt/anaconda3/lib/python3.8/site-packages (from faststylometry) (2.0.3)\n",
      "Requirement already satisfied: wget<4.0,>=3.0 in /opt/anaconda3/lib/python3.8/site-packages (from faststylometry) (3.2)\n",
      "Requirement already satisfied: pytz>=2020.1 in /opt/anaconda3/lib/python3.8/site-packages (from pandas<=2.1.0,>=1.5.3->faststylometry) (2020.1)\n",
      "Requirement already satisfied: python-dateutil>=2.8.2 in /opt/anaconda3/lib/python3.8/site-packages (from pandas<=2.1.0,>=1.5.3->faststylometry) (2.9.0.post0)\n",
      "Requirement already satisfied: tzdata>=2022.1 in /opt/anaconda3/lib/python3.8/site-packages (from pandas<=2.1.0,>=1.5.3->faststylometry) (2024.1)\n",
      "Requirement already satisfied: threadpoolctl>=2.0.0 in /opt/anaconda3/lib/python3.8/site-packages (from scikit-learn<=1.3.0,>=1.2.0->faststylometry) (2.1.0)\n",
      "Requirement already satisfied: joblib>=1.1.1 in /opt/anaconda3/lib/python3.8/site-packages (from scikit-learn<=1.3.0,>=1.2.0->faststylometry) (1.2.0)\n",
      "Requirement already satisfied: scipy>=1.5.0 in /opt/anaconda3/lib/python3.8/site-packages (from scikit-learn<=1.3.0,>=1.2.0->faststylometry) (1.7.3)\n",
      "Requirement already satisfied: six>=1.5 in /opt/anaconda3/lib/python3.8/site-packages (from python-dateutil>=2.8.2->pandas<=2.1.0,>=1.5.3->faststylometry) (1.16.0)\n",
      "\n",
      "\u001b[1m[\u001b[0m\u001b[34;49mnotice\u001b[0m\u001b[1;39;49m]\u001b[0m\u001b[39;49m A new release of pip available: \u001b[0m\u001b[31;49m22.2.2\u001b[0m\u001b[39;49m -> \u001b[0m\u001b[32;49m24.0\u001b[0m\n",
      "\u001b[1m[\u001b[0m\u001b[34;49mnotice\u001b[0m\u001b[1;39;49m]\u001b[0m\u001b[39;49m To update, run: \u001b[0m\u001b[32;49mpip install --upgrade pip\u001b[0m\n"
     ]
    }
   ],
   "source": [
    "!pip install faststylometry"
   ]
  },
  {
   "cell_type": "code",
   "execution_count": 2,
   "metadata": {
    "scrolled": true
   },
   "outputs": [
    {
     "name": "stderr",
     "output_type": "stream",
     "text": [
      "/opt/anaconda3/lib/python3.8/site-packages/pandas/core/computation/expressions.py:20: UserWarning: Pandas requires version '2.7.3' or newer of 'numexpr' (version '2.7.1' currently installed).\n",
      "  from pandas.core.computation.check import NUMEXPR_INSTALLED\n"
     ]
    }
   ],
   "source": [
    "from faststylometry import load_corpus_from_folder\n",
    "from faststylometry import tokenise_remove_pronouns_en\n",
    "from faststylometry import calculate_burrows_delta\n",
    "from faststylometry import predict_proba, calibrate, get_calibration_curve\n",
    "from pandas.core.computation.check import NUMEXPR_INSTALLED"
   ]
  },
  {
   "cell_type": "markdown",
   "metadata": {},
   "source": [
    "# II. Charger les données dans la Fast Stylometry library."
   ]
  },
  {
   "cell_type": "code",
   "execution_count": 35,
   "metadata": {},
   "outputs": [],
   "source": [
    "# Charger le corpus\n",
    "\n",
    "train_corpus = load_corpus_from_folder(\"data/train\")\n",
    "\n",
    "# Tokeniser les textes et enlever les pronoms (stopwords)\n",
    "\n",
    "train_corpus.tokenise(tokenise_remove_pronouns_en)\n"
   ]
  },
  {
   "cell_type": "markdown",
   "metadata": {},
   "source": [
    "# III. Charger deux textes d'auteurs \"inconnus\" pour tester l'algorithme"
   ]
  },
  {
   "cell_type": "code",
   "execution_count": 36,
   "metadata": {},
   "outputs": [],
   "source": [
    "# Charger \"El Aleph\", écrit par Jorge Luis Borges (marqué comme \"x_-_aleph\")\n",
    "# Et \"Las doce figuras del mundo\", écrit en collaboration par Jorge Luis Borges et Adolfo Bioy Casares, sous le pseudonyme de H. Bustos Domecq (marqué comme \"bustosdomecq_-_doce_figuras_mundo\")\n",
    "\n",
    "test_corpus = load_corpus_from_folder(\"data/test\", pattern=None)\n",
    "\n",
    "# On tokenise les textes.\n",
    "\n",
    "test_corpus.tokenise(tokenise_remove_pronouns_en)"
   ]
  },
  {
   "cell_type": "markdown",
   "metadata": {},
   "source": [
    "# IV. Calculer le Burrows' Delta pour les deux textes d'auteurs \"inconnus\""
   ]
  },
  {
   "cell_type": "code",
   "execution_count": 37,
   "metadata": {},
   "outputs": [
    {
     "data": {
      "text/html": [
       "<div>\n",
       "<style scoped>\n",
       "    .dataframe tbody tr th:only-of-type {\n",
       "        vertical-align: middle;\n",
       "    }\n",
       "\n",
       "    .dataframe tbody tr th {\n",
       "        vertical-align: top;\n",
       "    }\n",
       "\n",
       "    .dataframe thead th {\n",
       "        text-align: right;\n",
       "    }\n",
       "</style>\n",
       "<table border=\"1\" class=\"dataframe\">\n",
       "  <thead>\n",
       "    <tr style=\"text-align: right;\">\n",
       "      <th></th>\n",
       "      <th>bustosdomecq - doce_figuras_mundo</th>\n",
       "      <th>x - aleph</th>\n",
       "    </tr>\n",
       "  </thead>\n",
       "  <tbody>\n",
       "    <tr>\n",
       "      <th>bioy</th>\n",
       "      <td>0.999367</td>\n",
       "      <td>1.220068</td>\n",
       "    </tr>\n",
       "    <tr>\n",
       "      <th>borges</th>\n",
       "      <td>1.030605</td>\n",
       "      <td>0.919021</td>\n",
       "    </tr>\n",
       "    <tr>\n",
       "      <th>cortazar</th>\n",
       "      <td>1.076991</td>\n",
       "      <td>1.367532</td>\n",
       "    </tr>\n",
       "    <tr>\n",
       "      <th>ocampo</th>\n",
       "      <td>1.265872</td>\n",
       "      <td>1.171968</td>\n",
       "    </tr>\n",
       "    <tr>\n",
       "      <th>quiroga</th>\n",
       "      <td>1.228035</td>\n",
       "      <td>1.358392</td>\n",
       "    </tr>\n",
       "  </tbody>\n",
       "</table>\n",
       "</div>"
      ],
      "text/plain": [
       "          bustosdomecq - doce_figuras_mundo  x - aleph\n",
       "bioy                               0.999367   1.220068\n",
       "borges                             1.030605   0.919021\n",
       "cortazar                           1.076991   1.367532\n",
       "ocampo                             1.265872   1.171968\n",
       "quiroga                            1.228035   1.358392"
      ]
     },
     "execution_count": 37,
     "metadata": {},
     "output_type": "execute_result"
    }
   ],
   "source": [
    "calculate_burrows_delta(train_corpus, test_corpus, vocab_size = 50)"
   ]
  },
  {
   "cell_type": "markdown",
   "metadata": {},
   "source": [
    "# V. Calibrer le modèle et calculer la probabilité de chaque candidat d'être l'auteur \"inconnu\""
   ]
  },
  {
   "cell_type": "code",
   "execution_count": 38,
   "metadata": {},
   "outputs": [],
   "source": [
    "calibrate(train_corpus)"
   ]
  },
  {
   "cell_type": "code",
   "execution_count": 39,
   "metadata": {},
   "outputs": [
    {
     "data": {
      "text/html": [
       "<div>\n",
       "<style scoped>\n",
       "    .dataframe tbody tr th:only-of-type {\n",
       "        vertical-align: middle;\n",
       "    }\n",
       "\n",
       "    .dataframe tbody tr th {\n",
       "        vertical-align: top;\n",
       "    }\n",
       "\n",
       "    .dataframe thead th {\n",
       "        text-align: right;\n",
       "    }\n",
       "</style>\n",
       "<table border=\"1\" class=\"dataframe\">\n",
       "  <thead>\n",
       "    <tr style=\"text-align: right;\">\n",
       "      <th></th>\n",
       "      <th>bustosdomecq - doce_figuras_mundo</th>\n",
       "      <th>x - aleph</th>\n",
       "    </tr>\n",
       "  </thead>\n",
       "  <tbody>\n",
       "    <tr>\n",
       "      <th>bioy</th>\n",
       "      <td>0.665866</td>\n",
       "      <td>0.598732</td>\n",
       "    </tr>\n",
       "    <tr>\n",
       "      <th>borges</th>\n",
       "      <td>0.656693</td>\n",
       "      <td>0.688879</td>\n",
       "    </tr>\n",
       "    <tr>\n",
       "      <th>cortazar</th>\n",
       "      <td>0.642854</td>\n",
       "      <td>0.551528</td>\n",
       "    </tr>\n",
       "    <tr>\n",
       "      <th>ocampo</th>\n",
       "      <td>0.584223</td>\n",
       "      <td>0.613785</td>\n",
       "    </tr>\n",
       "    <tr>\n",
       "      <th>quiroga</th>\n",
       "      <td>0.596220</td>\n",
       "      <td>0.554491</td>\n",
       "    </tr>\n",
       "  </tbody>\n",
       "</table>\n",
       "</div>"
      ],
      "text/plain": [
       "          bustosdomecq - doce_figuras_mundo  x - aleph\n",
       "bioy                               0.665866   0.598732\n",
       "borges                             0.656693   0.688879\n",
       "cortazar                           0.642854   0.551528\n",
       "ocampo                             0.584223   0.613785\n",
       "quiroga                            0.596220   0.554491"
      ]
     },
     "execution_count": 39,
     "metadata": {},
     "output_type": "execute_result"
    }
   ],
   "source": [
    "predict_proba(train_corpus, test_corpus)"
   ]
  },
  {
   "cell_type": "markdown",
   "metadata": {},
   "source": [
    "# VI. Courbes du modèle"
   ]
  },
  {
   "cell_type": "code",
   "execution_count": 40,
   "metadata": {},
   "outputs": [],
   "source": [
    "import numpy as np\n",
    "x_values =  np.arange(0, 3, 0.1)\n",
    "\n",
    "import matplotlib.pyplot as plt"
   ]
  },
  {
   "cell_type": "code",
   "execution_count": 41,
   "metadata": {},
   "outputs": [
    {
     "data": {
      "text/plain": [
       "''"
      ]
     },
     "execution_count": 41,
     "metadata": {},
     "output_type": "execute_result"
    },
    {
     "data": {
      "image/png": "[encoded data removed]",
      "text/plain": [
       "<Figure size 432x288 with 1 Axes>"
      ]
     },
     "metadata": {
      "needs_background": "light"
     },
     "output_type": "display_data"
    }
   ],
   "source": [
    "plt.plot(x_values, train_corpus.probability_model.predict_proba(np.reshape(x_values, (-1, 1)))[:,1])\n",
    "plt.xlabel(\"Burrows delta\")\n",
    "plt.ylabel(\"Probability of same author\")\n",
    "plt.title(\"Calibration curve of the Burrows Delta probability model\\nUsing Logistic Regression with correction for class imbalance\")\n",
    ";"
   ]
  },
  {
   "cell_type": "markdown",
   "metadata": {},
   "source": [
    "# Courbe ROC (performance)\n"
   ]
  },
  {
   "cell_type": "code",
   "execution_count": 42,
   "metadata": {
    "scrolled": true
   },
   "outputs": [],
   "source": [
    "ground_truths, deltas = get_calibration_curve(train_corpus)"
   ]
  },
  {
   "cell_type": "code",
   "execution_count": 43,
   "metadata": {},
   "outputs": [],
   "source": [
    "probabilities = train_corpus.probability_model.predict_proba(np.reshape(deltas, (-1, 1)))[:,1]"
   ]
  },
  {
   "cell_type": "code",
   "execution_count": 44,
   "metadata": {},
   "outputs": [],
   "source": [
    "from sklearn.metrics import roc_curve, auc"
   ]
  },
  {
   "cell_type": "code",
   "execution_count": 45,
   "metadata": {},
   "outputs": [],
   "source": [
    "fpr, tpr, thresholds = roc_curve(ground_truths, probabilities)"
   ]
  },
  {
   "cell_type": "code",
   "execution_count": 46,
   "metadata": {},
   "outputs": [],
   "source": [
    "roc_auc = auc(fpr, tpr)"
   ]
  },
  {
   "cell_type": "code",
   "execution_count": 47,
   "metadata": {},
   "outputs": [
    {
     "data": {
      "image/png": "[encoded data removed]",
      "text/plain": [
       "<Figure size 432x288 with 1 Axes>"
      ]
     },
     "metadata": {
      "needs_background": "light"
     },
     "output_type": "display_data"
    }
   ],
   "source": [
    "plt.figure()\n",
    "plt.plot(fpr, tpr, color='darkorange',\n",
    "         label='ROC curve (area = %0.4f)' % roc_auc)\n",
    "plt.plot([0, 1], [0, 1], color='navy', linestyle='--')\n",
    "plt.xlim([0.0, 1.0])\n",
    "plt.ylim([0.0, 1.05])\n",
    "plt.xlabel('False Positive Rate')\n",
    "plt.ylabel('True Positive Rate')\n",
    "plt.title('Receiver operating curve of the Burrows\\' Delta classifier\\noperating on entire books')\n",
    "plt.legend(loc=\"lower right\")\n",
    "plt.show()"
   ]
  },
  {
   "cell_type": "markdown",
   "metadata": {},
   "source": [
    "# VII. Segmenter le corpus et disposer les textes dans un graphique 2D des similarités stylistiques\n"
   ]
  },
  {
   "cell_type": "code",
   "execution_count": 48,
   "metadata": {},
   "outputs": [],
   "source": [
    "from sklearn.decomposition import PCA\n",
    "import re\n",
    "import pandas as pd\n"
   ]
  },
  {
   "cell_type": "code",
   "execution_count": 49,
   "metadata": {},
   "outputs": [],
   "source": [
    "# Reload the training corpus as the \"test corpus\", re-tokenise it, and segment it this time\n",
    "test_corpus = load_corpus_from_folder(\"data/train\")\n",
    "test_corpus.tokenise(tokenise_remove_pronouns_en)"
   ]
  },
  {
   "cell_type": "code",
   "execution_count": 50,
   "metadata": {},
   "outputs": [],
   "source": [
    "split_test_corpus = test_corpus.split(80000)"
   ]
  },
  {
   "cell_type": "code",
   "execution_count": 51,
   "metadata": {},
   "outputs": [],
   "source": [
    "df_delta = calculate_burrows_delta(train_corpus, split_test_corpus)"
   ]
  },
  {
   "cell_type": "code",
   "execution_count": 52,
   "metadata": {},
   "outputs": [],
   "source": [
    "z_scores = split_test_corpus.author_z_scores"
   ]
  },
  {
   "cell_type": "code",
   "execution_count": 53,
   "metadata": {},
   "outputs": [],
   "source": [
    "pca_model = PCA(n_components=2)"
   ]
  },
  {
   "cell_type": "code",
   "execution_count": 54,
   "metadata": {},
   "outputs": [],
   "source": [
    "pca_matrix = pca_model.fit_transform(z_scores.T)"
   ]
  },
  {
   "cell_type": "code",
   "execution_count": 55,
   "metadata": {},
   "outputs": [],
   "source": [
    "authors = split_test_corpus.authors"
   ]
  },
  {
   "cell_type": "code",
   "execution_count": 56,
   "metadata": {},
   "outputs": [],
   "source": [
    "df_pca_by_author = pd.DataFrame(pca_matrix)\n",
    "df_pca_by_author[\"author\"] = authors"
   ]
  },
  {
   "cell_type": "code",
   "execution_count": 58,
   "metadata": {},
   "outputs": [
    {
     "data": {
      "text/plain": [
       "Text(0.5, 1.0, 'Representation using PCA of works in training corpus')"
      ]
     },
     "execution_count": 58,
     "metadata": {},
     "output_type": "execute_result"
    },
    {
     "data": {
      "image/png": "[encoded data removed]",
      "text/plain": [
       "<Figure size 1080x1080 with 1 Axes>"
      ]
     },
     "metadata": {
      "needs_background": "light"
     },
     "output_type": "display_data"
    }
   ],
   "source": [
    "plt.figure(figsize=(15,15)) \n",
    "\n",
    "for author, pca_coordinates in df_pca_by_author.groupby(\"author\"):\n",
    "    plt.scatter(*zip(*pca_coordinates.drop(\"author\", axis=1).to_numpy()), label=author)\n",
    "for i in range(len(pca_matrix)):\n",
    "    plt.text(pca_matrix[i][0], pca_matrix[i][1],\"  \" + authors[i], alpha=0.5)\n",
    "\n",
    "plt.legend()\n",
    "\n",
    "plt.title(\"Representation using PCA of works in training corpus\")"
   ]
  }
 ],
 "metadata": {
  "kernelspec": {
   "display_name": "Python 3",
   "language": "python",
   "name": "python3"
  },
  "language_info": {
   "codemirror_mode": {
    "name": "ipython",
    "version": 3
   },
   "file_extension": ".py",
   "mimetype": "text/x-python",
   "name": "python",
   "nbconvert_exporter": "python",
   "pygments_lexer": "ipython3",
   "version": "3.8.3"
  }
 },
 "nbformat": 4,
 "nbformat_minor": 4
}
